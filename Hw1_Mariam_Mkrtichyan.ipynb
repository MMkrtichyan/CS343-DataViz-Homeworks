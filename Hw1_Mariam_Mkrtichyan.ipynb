{
 "cells": [
  {
   "cell_type": "code",
   "execution_count": null,
   "id": "e53ab336-4a06-41ac-87a6-2867dd5228f1",
   "metadata": {},
   "outputs": [],
   "source": [
    "#Part 1: Data Cleaning and Exploration"
   ]
  },
  {
   "cell_type": "code",
   "execution_count": 2,
   "id": "be70c5d6-d3d2-4d30-a489-69503ad76e52",
   "metadata": {},
   "outputs": [],
   "source": [
    "import pandas as pd "
   ]
  },
  {
   "cell_type": "code",
   "execution_count": 88,
   "id": "a1729149-50b4-4f85-8d22-328df70d001d",
   "metadata": {
    "scrolled": true
   },
   "outputs": [
    {
     "data": {
      "text/html": [
       "<div>\n",
       "<style scoped>\n",
       "    .dataframe tbody tr th:only-of-type {\n",
       "        vertical-align: middle;\n",
       "    }\n",
       "\n",
       "    .dataframe tbody tr th {\n",
       "        vertical-align: top;\n",
       "    }\n",
       "\n",
       "    .dataframe thead th {\n",
       "        text-align: right;\n",
       "    }\n",
       "</style>\n",
       "<table border=\"1\" class=\"dataframe\">\n",
       "  <thead>\n",
       "    <tr style=\"text-align: right;\">\n",
       "      <th></th>\n",
       "      <th>DR_NO</th>\n",
       "      <th>Date Rptd</th>\n",
       "      <th>DATE OCC</th>\n",
       "      <th>TIME OCC</th>\n",
       "      <th>AREA</th>\n",
       "      <th>AREA NAME</th>\n",
       "      <th>Rpt Dist No</th>\n",
       "      <th>Part 1-2</th>\n",
       "      <th>Crm Cd</th>\n",
       "      <th>Crm Cd Desc</th>\n",
       "      <th>...</th>\n",
       "      <th>Status</th>\n",
       "      <th>Status Desc</th>\n",
       "      <th>Crm Cd 1</th>\n",
       "      <th>Crm Cd 2</th>\n",
       "      <th>Crm Cd 3</th>\n",
       "      <th>Crm Cd 4</th>\n",
       "      <th>LOCATION</th>\n",
       "      <th>Cross Street</th>\n",
       "      <th>LAT</th>\n",
       "      <th>LON</th>\n",
       "    </tr>\n",
       "  </thead>\n",
       "  <tbody>\n",
       "    <tr>\n",
       "      <th>0</th>\n",
       "      <td>241711715</td>\n",
       "      <td>08/01/2024 12:00:00 AM</td>\n",
       "      <td>08/01/2024 12:00:00 AM</td>\n",
       "      <td>1319</td>\n",
       "      <td>17</td>\n",
       "      <td>Devonshire</td>\n",
       "      <td>1791</td>\n",
       "      <td>1</td>\n",
       "      <td>440</td>\n",
       "      <td>THEFT PLAIN - PETTY ($950 &amp; UNDER)</td>\n",
       "      <td>...</td>\n",
       "      <td>IC</td>\n",
       "      <td>Invest Cont</td>\n",
       "      <td>440.0</td>\n",
       "      <td>NaN</td>\n",
       "      <td>NaN</td>\n",
       "      <td>NaN</td>\n",
       "      <td>8300    KELVIN                       AV</td>\n",
       "      <td>NaN</td>\n",
       "      <td>34.2200</td>\n",
       "      <td>-118.5863</td>\n",
       "    </tr>\n",
       "    <tr>\n",
       "      <th>1</th>\n",
       "      <td>231014031</td>\n",
       "      <td>09/21/2023 12:00:00 AM</td>\n",
       "      <td>09/15/2023 12:00:00 AM</td>\n",
       "      <td>1930</td>\n",
       "      <td>10</td>\n",
       "      <td>West Valley</td>\n",
       "      <td>1011</td>\n",
       "      <td>2</td>\n",
       "      <td>354</td>\n",
       "      <td>THEFT OF IDENTITY</td>\n",
       "      <td>...</td>\n",
       "      <td>IC</td>\n",
       "      <td>Invest Cont</td>\n",
       "      <td>354.0</td>\n",
       "      <td>NaN</td>\n",
       "      <td>NaN</td>\n",
       "      <td>NaN</td>\n",
       "      <td>18900    CANTLAY                      ST</td>\n",
       "      <td>NaN</td>\n",
       "      <td>34.2023</td>\n",
       "      <td>-118.5458</td>\n",
       "    </tr>\n",
       "    <tr>\n",
       "      <th>2</th>\n",
       "      <td>231010808</td>\n",
       "      <td>06/27/2023 12:00:00 AM</td>\n",
       "      <td>06/26/2023 12:00:00 AM</td>\n",
       "      <td>1230</td>\n",
       "      <td>10</td>\n",
       "      <td>West Valley</td>\n",
       "      <td>1015</td>\n",
       "      <td>2</td>\n",
       "      <td>354</td>\n",
       "      <td>THEFT OF IDENTITY</td>\n",
       "      <td>...</td>\n",
       "      <td>IC</td>\n",
       "      <td>Invest Cont</td>\n",
       "      <td>354.0</td>\n",
       "      <td>NaN</td>\n",
       "      <td>NaN</td>\n",
       "      <td>NaN</td>\n",
       "      <td>7300    ENFIELD                      AV</td>\n",
       "      <td>NaN</td>\n",
       "      <td>34.2033</td>\n",
       "      <td>-118.5241</td>\n",
       "    </tr>\n",
       "    <tr>\n",
       "      <th>3</th>\n",
       "      <td>211410441</td>\n",
       "      <td>04/25/2021 12:00:00 AM</td>\n",
       "      <td>04/25/2021 12:00:00 AM</td>\n",
       "      <td>2330</td>\n",
       "      <td>14</td>\n",
       "      <td>Pacific</td>\n",
       "      <td>1488</td>\n",
       "      <td>2</td>\n",
       "      <td>626</td>\n",
       "      <td>INTIMATE PARTNER - SIMPLE ASSAULT</td>\n",
       "      <td>...</td>\n",
       "      <td>IC</td>\n",
       "      <td>Invest Cont</td>\n",
       "      <td>626.0</td>\n",
       "      <td>NaN</td>\n",
       "      <td>NaN</td>\n",
       "      <td>NaN</td>\n",
       "      <td>5800 W  CENTURY                      BL</td>\n",
       "      <td>NaN</td>\n",
       "      <td>33.9456</td>\n",
       "      <td>-118.3835</td>\n",
       "    </tr>\n",
       "    <tr>\n",
       "      <th>4</th>\n",
       "      <td>211114569</td>\n",
       "      <td>10/25/2021 12:00:00 AM</td>\n",
       "      <td>10/25/2021 12:00:00 AM</td>\n",
       "      <td>1455</td>\n",
       "      <td>11</td>\n",
       "      <td>Northeast</td>\n",
       "      <td>1123</td>\n",
       "      <td>1</td>\n",
       "      <td>210</td>\n",
       "      <td>ROBBERY</td>\n",
       "      <td>...</td>\n",
       "      <td>IC</td>\n",
       "      <td>Invest Cont</td>\n",
       "      <td>210.0</td>\n",
       "      <td>NaN</td>\n",
       "      <td>NaN</td>\n",
       "      <td>NaN</td>\n",
       "      <td>2900    LOS FELIZ                    BL</td>\n",
       "      <td>NaN</td>\n",
       "      <td>0.0000</td>\n",
       "      <td>0.0000</td>\n",
       "    </tr>\n",
       "  </tbody>\n",
       "</table>\n",
       "<p>5 rows × 28 columns</p>\n",
       "</div>"
      ],
      "text/plain": [
       "       DR_NO               Date Rptd                DATE OCC  TIME OCC  AREA  \\\n",
       "0  241711715  08/01/2024 12:00:00 AM  08/01/2024 12:00:00 AM      1319    17   \n",
       "1  231014031  09/21/2023 12:00:00 AM  09/15/2023 12:00:00 AM      1930    10   \n",
       "2  231010808  06/27/2023 12:00:00 AM  06/26/2023 12:00:00 AM      1230    10   \n",
       "3  211410441  04/25/2021 12:00:00 AM  04/25/2021 12:00:00 AM      2330    14   \n",
       "4  211114569  10/25/2021 12:00:00 AM  10/25/2021 12:00:00 AM      1455    11   \n",
       "\n",
       "     AREA NAME  Rpt Dist No  Part 1-2  Crm Cd  \\\n",
       "0   Devonshire         1791         1     440   \n",
       "1  West Valley         1011         2     354   \n",
       "2  West Valley         1015         2     354   \n",
       "3      Pacific         1488         2     626   \n",
       "4    Northeast         1123         1     210   \n",
       "\n",
       "                          Crm Cd Desc  ... Status  Status Desc Crm Cd 1  \\\n",
       "0  THEFT PLAIN - PETTY ($950 & UNDER)  ...     IC  Invest Cont    440.0   \n",
       "1                   THEFT OF IDENTITY  ...     IC  Invest Cont    354.0   \n",
       "2                   THEFT OF IDENTITY  ...     IC  Invest Cont    354.0   \n",
       "3   INTIMATE PARTNER - SIMPLE ASSAULT  ...     IC  Invest Cont    626.0   \n",
       "4                             ROBBERY  ...     IC  Invest Cont    210.0   \n",
       "\n",
       "  Crm Cd 2  Crm Cd 3 Crm Cd 4                                  LOCATION  \\\n",
       "0      NaN       NaN      NaN   8300    KELVIN                       AV   \n",
       "1      NaN       NaN      NaN  18900    CANTLAY                      ST   \n",
       "2      NaN       NaN      NaN   7300    ENFIELD                      AV   \n",
       "3      NaN       NaN      NaN   5800 W  CENTURY                      BL   \n",
       "4      NaN       NaN      NaN   2900    LOS FELIZ                    BL   \n",
       "\n",
       "  Cross Street      LAT       LON  \n",
       "0          NaN  34.2200 -118.5863  \n",
       "1          NaN  34.2023 -118.5458  \n",
       "2          NaN  34.2033 -118.5241  \n",
       "3          NaN  33.9456 -118.3835  \n",
       "4          NaN   0.0000    0.0000  \n",
       "\n",
       "[5 rows x 28 columns]"
      ]
     },
     "execution_count": 88,
     "metadata": {},
     "output_type": "execute_result"
    }
   ],
   "source": [
    "# Load the dataset \n",
    "data = pd.read_csv(r'C:\\Users\\maria\\Desktop\\DataViz\\crime_data.csv')\n",
    "\n",
    "# Display the first 5 rows \n",
    "data.head()"
   ]
  },
  {
   "cell_type": "code",
   "execution_count": 56,
   "id": "0d8395cc-7e06-4649-bc92-0a39a3e8c798",
   "metadata": {},
   "outputs": [],
   "source": [
    "##Identify columns with missing values and their respective counts. Drop columns where more than \n",
    "#50% of the data is missing (store this version as a new dataset).\n",
    "missing_colum_value = df.isnull().sum()\n",
    "#print(\"\\nMissing values in each column:\")\n",
    "#print(df.isnull().sum())\n",
    "\n",
    "threshold = len(data) * 0.5  # 50% of the total rows\n",
    "columns_to_drop = missing_colum_value[missing_colum_value > threshold].index\n",
    "# Create a new dataset without these columns\n",
    "df_cleaned = df.drop(columns=columns_to_drop)\n",
    "df_cleaned.to_csv('cleaned_crimedataset.csv', index=False)"
   ]
  },
  {
   "cell_type": "code",
   "execution_count": null,
   "id": "2519f0d5-3de2-4efe-aeb5-a43f0c9f63dd",
   "metadata": {},
   "outputs": [],
   "source": [
    "#Convert the DATE OCC column to a datetime format. Extract the year, month, and day into separate\n",
    "#columns. Create a new column for the hour using the TIME OCC column."
   ]
  },
  {
   "cell_type": "code",
   "execution_count": 120,
   "id": "20fddcd8-9321-433d-981b-cfaad5363416",
   "metadata": {},
   "outputs": [
    {
     "name": "stdout",
     "output_type": "stream",
     "text": [
      "    DATE OCC  Year  Month  Day  TIME OCC Hour\n",
      "0 2024-08-01  2024      8    1      1319   13\n",
      "1 2023-09-15  2023      9   15      1930   19\n",
      "2 2023-06-26  2023      6   26      1230   12\n",
      "3 2021-04-25  2021      4   25      2330   23\n",
      "4 2021-10-25  2021     10   25      1455   14\n"
     ]
    }
   ],
   "source": [
    "# Convert the 'DATE OCC' column to datetime format\n",
    "df_cleaned['DATE OCC'] = pd.to_datetime(df_cleaned['DATE OCC'],format='%d/%m/%Y' , errors='coerce')\n",
    "\n",
    "# Extract year, month, and day into separate columns\n",
    "df_cleaned['Year'] = df_cleaned['DATE OCC'].dt.year\n",
    "df_cleaned['Month'] = df_cleaned['DATE OCC'].dt.month\n",
    "df_cleaned['Day'] = df_cleaned['DATE OCC'].dt.day\n",
    "#Create column for hour\n",
    "df_cleaned['Hour'] = df_cleaned['TIME OCC'].apply(lambda x: str(x).zfill(4)[:2]) # str(x) converts value into string zfill(4) ensures that string is at least 4\n",
    "# Display the updated dataframe with new columns\n",
    "print(df_cleaned[['DATE OCC', 'Year', 'Month', 'Day', 'TIME OCC', 'Hour']].head())"
   ]
  },
  {
   "cell_type": "code",
   "execution_count": 116,
   "id": "a50b1559-0117-4039-8a3f-6fdf75351b0d",
   "metadata": {},
   "outputs": [
    {
     "name": "stdout",
     "output_type": "stream",
     "text": [
      "         DR_NO               Date Rptd   DATE OCC  TIME OCC  AREA  \\\n",
      "47   231107877  04/15/2023 12:00:00 AM 2023-01-15       500    11   \n",
      "147  231912840  08/15/2023 12:00:00 AM 2023-08-14      2200    19   \n",
      "292  230813484  08/19/2023 12:00:00 AM 2023-08-19       510     8   \n",
      "317  230126836  12/20/2023 12:00:00 AM 2023-12-10      1200     1   \n",
      "326  231506351  02/26/2023 12:00:00 AM 2023-02-22      1230    15   \n",
      "\n",
      "       AREA NAME  Rpt Dist No  Part 1-2  Crm Cd Crm Cd Desc  ... Status  \\\n",
      "47     Northeast         1151         1     310    BURGLARY  ...     IC   \n",
      "147      Mission         1962         1     310    BURGLARY  ...     IC   \n",
      "292      West LA          857         1     310    BURGLARY  ...     IC   \n",
      "317      Central          154         1     310    BURGLARY  ...     IC   \n",
      "326  N Hollywood         1562         1     310    BURGLARY  ...     IC   \n",
      "\n",
      "     Status Desc Crm Cd 1                                  LOCATION      LAT  \\\n",
      "47   Invest Cont    310.0   5000 W  SUNSET                       BL  34.0981   \n",
      "147  Invest Cont    310.0  15000    CORE                         LN  34.2424   \n",
      "292  Invest Cont    310.0   9400 W  PICO                         BL  34.0553   \n",
      "317  Invest Cont    310.0    100 E  6TH                          ST  34.0460   \n",
      "326  Invest Cont    310.0   4400    BABCOCK                      AV  34.1504   \n",
      "\n",
      "          LON  Year Month  Day Hour  \n",
      "47  -118.2983  2023     1   15  NaN  \n",
      "147 -118.4596  2023     8   14  NaN  \n",
      "292 -118.3943  2023     8   19  NaN  \n",
      "317 -118.2493  2023    12   10  NaN  \n",
      "326 -118.4063  2023     2   22  NaN  \n",
      "\n",
      "[5 rows x 26 columns]\n"
     ]
    }
   ],
   "source": [
    "#Filter the dataset for crimes that occurred in 2023. Further filter crimes with the description\n",
    "#BURGLARY in the Crm Cd Desc column.\n",
    "# Filter for crimes that occurred in 2023\n",
    "df_filtered_2023 = df_cleaned[df_cleaned['Year'] == 2023]\n",
    "\n",
    "# Further filter for crimes with the description 'BURGLARY' in the 'Crm Cd Desc' column\n",
    "df_filtered_burglary = df_filtered_2023[df_filtered['Crm Cd Desc'] == 'BURGLARY']\n",
    "df_filtered_burglary.to_csv(\"burglary_2023.csv\", index=False)\n",
    "\n",
    "# Display the filtered dataset\n",
    "print(df_filtered_burglary.head())\n"
   ]
  },
  {
   "cell_type": "code",
   "execution_count": 84,
   "id": "6ee02b6a-670d-427c-84ba-4910adac40ae",
   "metadata": {},
   "outputs": [
    {
     "name": "stdout",
     "output_type": "stream",
     "text": [
      "<bound method NDFrame.head of              total_crimeN  average_vict_age\n",
      "AREA NAME                                  \n",
      "Central              3517         28.481376\n",
      "77th Street          3115         29.151525\n",
      "Pacific              3004         28.978029\n",
      "Southwest            2831         29.048040\n",
      "Hollywood            2556         28.331377\n",
      "Newton               2537         25.054789\n",
      "Olympic              2523         27.732858\n",
      "N Hollywood          2503         28.346784\n",
      "Southeast            2459         28.362749\n",
      "Rampart              2388         26.273451\n",
      "Wilshire             2379         29.595628\n",
      "West LA              2249         30.307248\n",
      "Van Nuys             2162         31.748381\n",
      "West Valley          2114         30.640492\n",
      "Northeast            2103         28.732763\n",
      "Topanga              2076         34.018786\n",
      "Harbor               2052         26.983918\n",
      "Devonshire           2031         29.597735\n",
      "Mission              1933         29.609415\n",
      "Hollenbeck           1843         26.158437\n",
      "Foothill             1625         30.511385>\n"
     ]
    }
   ],
   "source": [
    "#5. Group the data by AREA NAME and calculate the total number of crimes and the average victim age.\n",
    "#Sort the results by total crimes in descending order\n",
    "df_grouped =df_cleaned.groupby('AREA NAME').agg(\n",
    "    total_crimeN = ('Crm Cd Desc', 'size'),\n",
    "    average_vict_age = ('Vict Age', 'mean')\n",
    ")\n",
    "#Sort in descending order\n",
    "df_grouped_sorted =df_grouped.sort_values(by='total_crimeN',ascending = False)\n",
    "print(df_grouped_sorted.head)\n"
   ]
  },
  {
   "cell_type": "code",
   "execution_count": null,
   "id": "811a1471-2d65-4419-9e00-e2e53205a59d",
   "metadata": {},
   "outputs": [],
   "source": [
    "#Part 2: Further Exploration (Python only)"
   ]
  },
  {
   "cell_type": "code",
   "execution_count": 96,
   "id": "055a920d-b439-4af5-9f3e-1cf4d4691b60",
   "metadata": {},
   "outputs": [
    {
     "name": "stdout",
     "output_type": "stream",
     "text": [
      "Crm Cd Desc\n",
      "VEHICLE - STOLEN            5733\n",
      "BATTERY - SIMPLE ASSAULT    3715\n",
      "THEFT OF IDENTITY           3169\n",
      "Name: count, dtype: int64\n"
     ]
    }
   ],
   "source": [
    "# Find the top 3 most frequent Crm Cd Desc values.\n",
    "top_3crimes = df_cleaned['Crm Cd Desc'].value_counts().head(3)\n",
    "print(top_3crimes)"
   ]
  },
  {
   "cell_type": "code",
   "execution_count": 122,
   "id": "bcd558f0-3217-48f1-be01-59f27c7ca39b",
   "metadata": {},
   "outputs": [
    {
     "name": "stdout",
     "output_type": "stream",
     "text": [
      "  Hour  Crime_Count\n",
      "0   00         2025\n",
      "1   01         1490\n",
      "2   02         1241\n",
      "3   03         1063\n",
      "4   04          975\n"
     ]
    }
   ],
   "source": [
    "#Group the data by Hour and count the number of crimes\n",
    "crimes_by_hour = df_cleaned.groupby('Hour').size().reset_index(name='Crime_Count')\n",
    "print(crimes_by_hour.head())"
   ]
  },
  {
   "cell_type": "code",
   "execution_count": 151,
   "id": "503c06a7-db71-42df-8811-881fdfd63b28",
   "metadata": {},
   "outputs": [
    {
     "name": "stdout",
     "output_type": "stream",
     "text": [
      "  Vict Sex  Total_CrimeN  Average_Vict_age\n",
      "0        F         17922         38.164156\n",
      "1        H             3         36.333333\n",
      "2        M         20076         37.165621\n",
      "3        X          4836          2.672043\n"
     ]
    }
   ],
   "source": [
    "#Group the data by Vict Sex and calculate: Total crimes, Average victim age\n",
    "crimes_by_VictSex = df_cleaned.groupby('Vict Sex').agg(\n",
    "    Total_CrimeN = ('Crm Cd Desc', 'size'),\n",
    "    Average_Vict_age = ('Vict Age', 'mean')).reset_index()\n",
    "\n",
    "print(crimes_by_VictSex.head())\n"
   ]
  },
  {
   "cell_type": "code",
   "execution_count": null,
   "id": "234ffbd5-ac23-40fd-afb1-851fc97d74df",
   "metadata": {},
   "outputs": [],
   "source": [
    "#Part 4: Advanced Analysis "
   ]
  },
  {
   "cell_type": "code",
   "execution_count": null,
   "id": "1bf5cafc-f5f2-4006-affb-3c818dd47ee7",
   "metadata": {},
   "outputs": [],
   "source": [
    " #Create a new column, Severity Score, based on the following rules:\n",
    "#• Assign 5 points if a weapon was used (Weapon Used Cd is not null).\n",
    "#• Assign 3 points for crimes under BURGLARY.\n",
    "#• Assign 1 point for all other crimes.\n",
    "#• Group by AREA NAME and find the total severity score for each area."
   ]
  },
  {
   "cell_type": "code",
   "execution_count": 161,
   "id": "c72f7642-cbe7-428a-bb1e-b125231313fe",
   "metadata": {},
   "outputs": [
    {
     "name": "stdout",
     "output_type": "stream",
     "text": [
      "     AREA NAME  Severity Score\n",
      "0  77th Street            9213\n",
      "1      Central            8485\n",
      "2   Devonshire            4375\n",
      "3     Foothill            3801\n",
      "4       Harbor            4934\n"
     ]
    }
   ],
   "source": [
    "# Create the 'Severity Score' column based on the conditions\n",
    "#USE original data\n",
    "data['Severity Score'] = 0  # Initialize with 0\n",
    "\n",
    "# Assign 5 points if a weapon was used (Weapon Used Cd is not null)\n",
    "data.loc[data['Weapon Used Cd'].notnull(), 'Severity Score'] = 5\n",
    "\n",
    "# Assign 3 points for BURGLARY crimes\n",
    "data.loc[data['Crm Cd Desc'] == 'BURGLARY', 'Severity Score'] = 3\n",
    "\n",
    "# Assign 1 point for all other crimes\n",
    "data.loc[(data['Weapon Used Cd'].isnull()) & (df_cleaned['Crm Cd Desc'] != 'BURGLARY'), 'Severity Score'] = 1\n",
    "\n",
    "# Group by 'AREA NAME' and calculate the total severity score for each area\n",
    "severity_by_area = data.groupby('AREA NAME')['Severity Score'].sum().reset_index()\n",
    "\n",
    "# Display the results\n",
    "print(severity_by_area.head())\n",
    "\n",
    "\n"
   ]
  },
  {
   "cell_type": "code",
   "execution_count": 171,
   "id": "01104472-6419-480f-8d57-e83dc48c3ef2",
   "metadata": {},
   "outputs": [
    {
     "name": "stdout",
     "output_type": "stream",
     "text": [
      "       DR_NO               Date Rptd                DATE OCC  TIME OCC  AREA  \\\n",
      "0  241711715  08/01/2024 12:00:00 AM  08/01/2024 12:00:00 AM      1319    17   \n",
      "1  231014031  09/21/2023 12:00:00 AM  09/15/2023 12:00:00 AM      1930    10   \n",
      "2  231010808  06/27/2023 12:00:00 AM  06/26/2023 12:00:00 AM      1230    10   \n",
      "3  211410441  04/25/2021 12:00:00 AM  04/25/2021 12:00:00 AM      2330    14   \n",
      "4  211114569  10/25/2021 12:00:00 AM  10/25/2021 12:00:00 AM      1455    11   \n",
      "\n",
      "     AREA NAME  Rpt Dist No  Part 1-2  Crm Cd  \\\n",
      "0   Devonshire         1791         1     440   \n",
      "1  West Valley         1011         2     354   \n",
      "2  West Valley         1015         2     354   \n",
      "3      Pacific         1488         2     626   \n",
      "4    Northeast         1123         1     210   \n",
      "\n",
      "                          Crm Cd Desc  ...  Status Desc  Crm Cd 1 Crm Cd 2  \\\n",
      "0  THEFT PLAIN - PETTY ($950 & UNDER)  ...  Invest Cont     440.0      NaN   \n",
      "1                   THEFT OF IDENTITY  ...  Invest Cont     354.0      NaN   \n",
      "2                   THEFT OF IDENTITY  ...  Invest Cont     354.0      NaN   \n",
      "3   INTIMATE PARTNER - SIMPLE ASSAULT  ...  Invest Cont     626.0      NaN   \n",
      "4                             ROBBERY  ...  Invest Cont     210.0      NaN   \n",
      "\n",
      "  Crm Cd 3  Crm Cd 4                                  LOCATION  Cross Street  \\\n",
      "0      NaN       NaN   8300    KELVIN                       AV           NaN   \n",
      "1      NaN       NaN  18900    CANTLAY                      ST           NaN   \n",
      "2      NaN       NaN   7300    ENFIELD                      AV           NaN   \n",
      "3      NaN       NaN   5800 W  CENTURY                      BL           NaN   \n",
      "4      NaN       NaN   2900    LOS FELIZ                    BL           NaN   \n",
      "\n",
      "       LAT       LON Severity Score  \n",
      "0  34.2200 -118.5863              1  \n",
      "1  34.2023 -118.5458              1  \n",
      "2  34.2033 -118.5241              1  \n",
      "3  33.9456 -118.3835              5  \n",
      "4   0.0000    0.0000              5  \n",
      "\n",
      "[5 rows x 29 columns]\n"
     ]
    }
   ],
   "source": [
    "#Bonus Part:\n",
    "#Use the LAT and LON columns to identify crimes that occurred within a specific latitude-longitude bounding\n",
    "#box (e.g., downtown area).\n",
    "min_lat = df_cleaned['LAT'].min()\n",
    "max_lat = df_cleaned['LAT'].max()\n",
    "\n",
    "min_lon = df_cleaned['LON'].min()\n",
    "max_lon = df_cleaned['LON'].max()\n",
    "\n",
    "Crime_Area = data [ (df_cleaned['LAT'] >= min_lat) & \n",
    "                    (df_cleaned['LAT'] <= max_lat) & \n",
    "                    (df_cleaned['LON'] >= min_lon) & \n",
    "                    (df_cleaned['LON'] <= max_lon)]\n",
    "print(Crime_Area.head())"
   ]
  },
  {
   "cell_type": "code",
   "execution_count": null,
   "id": "c477519f-1e90-4abb-b342-4d1a5581b04b",
   "metadata": {},
   "outputs": [],
   "source": []
  }
 ],
 "metadata": {
  "kernelspec": {
   "display_name": "Python [conda env:base] *",
   "language": "python",
   "name": "conda-base-py"
  },
  "language_info": {
   "codemirror_mode": {
    "name": "ipython",
    "version": 3
   },
   "file_extension": ".py",
   "mimetype": "text/x-python",
   "name": "python",
   "nbconvert_exporter": "python",
   "pygments_lexer": "ipython3",
   "version": "3.12.7"
  }
 },
 "nbformat": 4,
 "nbformat_minor": 5
}
